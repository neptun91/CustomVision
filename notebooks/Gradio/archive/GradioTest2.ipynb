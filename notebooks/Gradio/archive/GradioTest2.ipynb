{
 "cells": [
  {
   "cell_type": "code",
   "execution_count": 2,
   "id": "be31867f",
   "metadata": {},
   "outputs": [
    {
     "name": "stdout",
     "output_type": "stream",
     "text": [
      "* Running on local URL:  http://127.0.0.1:7861\n",
      "* To create a public link, set `share=True` in `launch()`.\n"
     ]
    },
    {
     "data": {
      "text/html": [
       "<div><iframe src=\"http://127.0.0.1:7861/\" width=\"100%\" height=\"500\" allow=\"autoplay; camera; microphone; clipboard-read; clipboard-write;\" frameborder=\"0\" allowfullscreen></iframe></div>"
      ],
      "text/plain": [
       "<IPython.core.display.HTML object>"
      ]
     },
     "metadata": {},
     "output_type": "display_data"
    },
    {
     "data": {
      "text/plain": []
     },
     "execution_count": 2,
     "metadata": {},
     "output_type": "execute_result"
    }
   ],
   "source": [
    "# 필요한 라이브러리 임포트\n",
    "import requests                      # HTTP 요청을 위한 라이브러리\n",
    "from PIL import Image                # 이미지 처리를 위한 Pillow 라이브러리\n",
    "import gradio as gr                  # 웹 인터페이스 생성을 위한 Gradio\n",
    "import io                            # 바이너리 데이터 처리를 위한 입출력 모듈\n",
    "\n",
    "# Azure Custom Vision Prediction 키와 엔드포인트 URL\n",
    "PREDICTION_KEY = \"48fBztGiqcoH4PUUK23qmvxTBMmu31mgQ4JmJN1EDeCWNYw2QAtQJQQJ99BEACL93NaXJ3w3AAAIACOGelyc\"\n",
    "ENDPOINT_URL = \"https://neptun91cv20250526-prediction.cognitiveservices.azure.com/customvision/v3.0/Prediction/175c111e-1670-4408-84d6-0e68daf1729c/classify/iterations/Iteration1/image\"\n",
    "\n",
    "# API 요청 헤더 설정\n",
    "headers = {\n",
    "    \"Prediction-Key\": PREDICTION_KEY,             # 인증을 위한 Prediction 키\n",
    "    \"Content-Type\": \"application/octet-stream\"    # 전송하는 데이터 형식 지정 (바이너리 이미지)\n",
    "}\n",
    "\n",
    "# 예측 함수 정의 (Gradio에 연결할 함수)\n",
    "def predict_with_api(image: Image.Image):\n",
    "    # 이미지를 바이너리로 변환\n",
    "    buf = io.BytesIO()                  # 메모리 내 바이트 버퍼 생성\n",
    "    image.save(buf, format='JPEG')      # 이미지를 JPEG 형식으로 저장\n",
    "    byte_data = buf.getvalue()          # 버퍼에서 바이너리 데이터 추출\n",
    "    \n",
    "    # Azure Custom Vision API에 POST 요청\n",
    "    response = requests.post(ENDPOINT_URL, headers=headers, data=byte_data)\n",
    "    \n",
    "    # API 응답에서 예측 결과 추출 (JSON 형식)\n",
    "    predictions = response.json()[\"predictions\"]\n",
    "    \n",
    "    # 확률이 높은 상위 2개 결과만 선택 (내림차순 정렬)\n",
    "    top_predictions = sorted(predictions, key=lambda x: x[\"probability\"], reverse=True)[:2]\n",
    "    \n",
    "    # 결과 문자열 포맷팅\n",
    "    result_lines = [\n",
    "        f\"{pred['tagName']} ({pred['probability'] * 100:.2f}%)\"  # 예: \"cat (97.23%)\"\n",
    "        for pred in top_predictions\n",
    "    ]\n",
    "    \n",
    "    return \"\\n\".join(result_lines)  # 여러 줄의 문자열로 반환\n",
    "\n",
    "# Gradio 인터페이스 정의\n",
    "interface = gr.Interface(\n",
    "    fn=predict_with_api,                 # 호출할 함수\n",
    "    inputs=gr.Image(type=\"pil\"),         # 사용자 입력: 이미지 (PIL 형식)\n",
    "    outputs=gr.Text(),                   # 출력 형식: 텍스트\n",
    "    title=\"Custom Vision Image Classifier\",   # 웹 앱 제목\n",
    "    description=\"Upload an image to see the prediction from your Custom Vision model.\"  # 설명 텍스트\n",
    ")\n",
    "\n",
    "# Gradio 웹 인터페이스 실행\n",
    "interface.launch()\n"
   ]
  }
 ],
 "metadata": {
  "kernelspec": {
   "display_name": "Python 3",
   "language": "python",
   "name": "python3"
  },
  "language_info": {
   "codemirror_mode": {
    "name": "ipython",
    "version": 3
   },
   "file_extension": ".py",
   "mimetype": "text/x-python",
   "name": "python",
   "nbconvert_exporter": "python",
   "pygments_lexer": "ipython3",
   "version": "3.12.1"
  }
 },
 "nbformat": 4,
 "nbformat_minor": 5
}
