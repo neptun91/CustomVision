{
 "cells": [
  {
   "cell_type": "code",
   "execution_count": 1,
   "id": "a28c0ec4",
   "metadata": {},
   "outputs": [
    {
     "name": "stdout",
     "output_type": "stream",
     "text": [
      "* Running on local URL:  http://127.0.0.1:7860\n",
      "* To create a public link, set `share=True` in `launch()`.\n"
     ]
    },
    {
     "data": {
      "text/html": [
       "<div><iframe src=\"http://127.0.0.1:7860/\" width=\"100%\" height=\"500\" allow=\"autoplay; camera; microphone; clipboard-read; clipboard-write;\" frameborder=\"0\" allowfullscreen></iframe></div>"
      ],
      "text/plain": [
       "<IPython.core.display.HTML object>"
      ]
     },
     "metadata": {},
     "output_type": "display_data"
    },
    {
     "data": {
      "text/plain": []
     },
     "execution_count": 1,
     "metadata": {},
     "output_type": "execute_result"
    }
   ],
   "source": [
    "import requests                      # HTTP 요청을 보내기 위한 라이브러리\n",
    "from PIL import Image                # 이미지 처리용 라이브러리 (Pillow)\n",
    "import gradio as gr                  # Gradio UI 생성 라이브러리\n",
    "import io                           # 바이트 스트림 처리를 위한 모듈\n",
    "\n",
    "# Custom Vision Prediction 서비스 키와 엔드포인트 URL 설정\n",
    "PREDICTION_KEY = \"48fBztGiqcoH4PUUK23qmvxTBMmu31mgQ4JmJN1EDeCWNYw2QAtQJQQJ99BEACL93NaXJ3w3AAAIACOGelyc\"\n",
    "ENDPOINT_URL = \"https://neptun91cv20250526-prediction.cognitiveservices.azure.com/customvision/v3.0/Prediction/c387e65a-5db0-4e24-8b0a-3c049157dcc2/detect/iterations/Iteration1/image\"\n",
    "\n",
    "# API 호출에 사용할 헤더, Prediction-Key와 데이터 타입 지정\n",
    "headers = {\n",
    "    \"Prediction-Key\": PREDICTION_KEY,\n",
    "    \"Content-Type\": \"application/octet-stream\"  # 바이너리 이미지 데이터 전송\n",
    "}\n",
    "\n",
    "def predict_with_api(image: Image.Image):\n",
    "    # PIL 이미지 객체를 JPEG 형식의 바이너리 데이터로 변환\n",
    "    buf = io.BytesIO()               # 메모리 내 바이트 버퍼 생성\n",
    "    image.save(buf, format='JPEG')  # 이미지 데이터를 JPEG로 버퍼에 저장\n",
    "    byte_data = buf.getvalue()       # 버퍼에 저장된 바이너리 데이터 추출\n",
    "    \n",
    "    # Azure Custom Vision API에 POST 요청으로 이미지 전송\n",
    "    response = requests.post(ENDPOINT_URL, headers=headers, data=byte_data)\n",
    "    \n",
    "    # JSON 형태로 응답 받아 예측 결과 파싱\n",
    "    predictions = response.json()[\"predictions\"]\n",
    "    \n",
    "    # 확률(probability)이 가장 높은 예측 항목을 선택\n",
    "    top_prediction = max(predictions, key=lambda x: x[\"probability\"])\n",
    "    label = top_prediction[\"tagName\"]           # 예측된 클래스 이름\n",
    "    probability = top_prediction[\"probability\"] # 예측 확률\n",
    "    \n",
    "    # 결과 문자열 포맷팅 후 반환 (예: 'cat (98.23%)')\n",
    "    return f\"{label} ({probability*100:.2f}%)\"\n",
    "\n",
    "# Gradio 인터페이스 구성\n",
    "interface = gr.Interface(\n",
    "    fn=predict_with_api,          # 이미지 입력을 받아 API 호출하는 함수 지정\n",
    "    inputs=gr.Image(type=\"pil\"), # 입력 타입: PIL 이미지 객체\n",
    "    outputs=gr.Text(),            # 출력 타입: 텍스트 (예측 결과)\n",
    "    title=\"Custom Vision Image Classifier\",   # 앱 제목\n",
    "    description=\"Upload an image to see the prediction from your Custom Vision model.\" # 앱 설명\n",
    ")\n",
    "\n",
    "# 웹 서버를 실행하여 인터페이스 실행 (브라우저에서 접속 가능)\n",
    "interface.launch()\n"
   ]
  }
 ],
 "metadata": {
  "kernelspec": {
   "display_name": "Python 3",
   "language": "python",
   "name": "python3"
  },
  "language_info": {
   "codemirror_mode": {
    "name": "ipython",
    "version": 3
   },
   "file_extension": ".py",
   "mimetype": "text/x-python",
   "name": "python",
   "nbconvert_exporter": "python",
   "pygments_lexer": "ipython3",
   "version": "3.12.1"
  }
 },
 "nbformat": 4,
 "nbformat_minor": 5
}
